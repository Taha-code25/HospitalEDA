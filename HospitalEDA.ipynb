{
 "cells": [
  {
   "cell_type": "code",
   "execution_count": 12,
   "id": "2efc2fad-c970-403e-b0f6-82ff095df0da",
   "metadata": {},
   "outputs": [],
   "source": [
    "import pandas as pd\n",
    "import numpy as np\n",
    "import matplotlib.pyplot as plt\n",
    "import seaborn as sns"
   ]
  },
  {
   "cell_type": "code",
   "execution_count": 2,
   "id": "5c0cfaaf-0d95-44c7-8e86-6f0c54013fdf",
   "metadata": {},
   "outputs": [],
   "source": [
    "admissions = pd.read_csv('HDHI Admission data.csv')"
   ]
  },
  {
   "cell_type": "code",
   "execution_count": 3,
   "id": "05b24eca-6bd5-4985-8f4f-06cd84da608c",
   "metadata": {},
   "outputs": [
    {
     "data": {
      "text/html": [
       "<div>\n",
       "<style scoped>\n",
       "    .dataframe tbody tr th:only-of-type {\n",
       "        vertical-align: middle;\n",
       "    }\n",
       "\n",
       "    .dataframe tbody tr th {\n",
       "        vertical-align: top;\n",
       "    }\n",
       "\n",
       "    .dataframe thead th {\n",
       "        text-align: right;\n",
       "    }\n",
       "</style>\n",
       "<table border=\"1\" class=\"dataframe\">\n",
       "  <thead>\n",
       "    <tr style=\"text-align: right;\">\n",
       "      <th></th>\n",
       "      <th>SNO</th>\n",
       "      <th>MRD No.</th>\n",
       "      <th>D.O.A</th>\n",
       "      <th>D.O.D</th>\n",
       "      <th>AGE</th>\n",
       "      <th>GENDER</th>\n",
       "      <th>RURAL</th>\n",
       "      <th>TYPE OF ADMISSION-EMERGENCY/OPD</th>\n",
       "      <th>month year</th>\n",
       "      <th>DURATION OF STAY</th>\n",
       "      <th>...</th>\n",
       "      <th>CONGENITAL</th>\n",
       "      <th>UTI</th>\n",
       "      <th>NEURO CARDIOGENIC SYNCOPE</th>\n",
       "      <th>ORTHOSTATIC</th>\n",
       "      <th>INFECTIVE ENDOCARDITIS</th>\n",
       "      <th>DVT</th>\n",
       "      <th>CARDIOGENIC SHOCK</th>\n",
       "      <th>SHOCK</th>\n",
       "      <th>PULMONARY EMBOLISM</th>\n",
       "      <th>CHEST INFECTION</th>\n",
       "    </tr>\n",
       "  </thead>\n",
       "  <tbody>\n",
       "    <tr>\n",
       "      <th>0</th>\n",
       "      <td>1</td>\n",
       "      <td>234735</td>\n",
       "      <td>4/1/2017</td>\n",
       "      <td>4/3/2017</td>\n",
       "      <td>81</td>\n",
       "      <td>M</td>\n",
       "      <td>R</td>\n",
       "      <td>E</td>\n",
       "      <td>Apr-17</td>\n",
       "      <td>3</td>\n",
       "      <td>...</td>\n",
       "      <td>0</td>\n",
       "      <td>0</td>\n",
       "      <td>0</td>\n",
       "      <td>0</td>\n",
       "      <td>0</td>\n",
       "      <td>0</td>\n",
       "      <td>0</td>\n",
       "      <td>0</td>\n",
       "      <td>0</td>\n",
       "      <td>0</td>\n",
       "    </tr>\n",
       "    <tr>\n",
       "      <th>1</th>\n",
       "      <td>2</td>\n",
       "      <td>234696</td>\n",
       "      <td>4/1/2017</td>\n",
       "      <td>4/5/2017</td>\n",
       "      <td>65</td>\n",
       "      <td>M</td>\n",
       "      <td>R</td>\n",
       "      <td>E</td>\n",
       "      <td>Apr-17</td>\n",
       "      <td>5</td>\n",
       "      <td>...</td>\n",
       "      <td>0</td>\n",
       "      <td>0</td>\n",
       "      <td>0</td>\n",
       "      <td>0</td>\n",
       "      <td>0</td>\n",
       "      <td>0</td>\n",
       "      <td>0</td>\n",
       "      <td>0</td>\n",
       "      <td>0</td>\n",
       "      <td>0</td>\n",
       "    </tr>\n",
       "    <tr>\n",
       "      <th>2</th>\n",
       "      <td>3</td>\n",
       "      <td>234882</td>\n",
       "      <td>4/1/2017</td>\n",
       "      <td>4/3/2017</td>\n",
       "      <td>53</td>\n",
       "      <td>M</td>\n",
       "      <td>U</td>\n",
       "      <td>E</td>\n",
       "      <td>Apr-17</td>\n",
       "      <td>3</td>\n",
       "      <td>...</td>\n",
       "      <td>0</td>\n",
       "      <td>0</td>\n",
       "      <td>0</td>\n",
       "      <td>0</td>\n",
       "      <td>0</td>\n",
       "      <td>0</td>\n",
       "      <td>0</td>\n",
       "      <td>0</td>\n",
       "      <td>0</td>\n",
       "      <td>0</td>\n",
       "    </tr>\n",
       "    <tr>\n",
       "      <th>3</th>\n",
       "      <td>4</td>\n",
       "      <td>234635</td>\n",
       "      <td>4/1/2017</td>\n",
       "      <td>4/8/2017</td>\n",
       "      <td>67</td>\n",
       "      <td>F</td>\n",
       "      <td>U</td>\n",
       "      <td>E</td>\n",
       "      <td>Apr-17</td>\n",
       "      <td>8</td>\n",
       "      <td>...</td>\n",
       "      <td>0</td>\n",
       "      <td>0</td>\n",
       "      <td>0</td>\n",
       "      <td>0</td>\n",
       "      <td>0</td>\n",
       "      <td>0</td>\n",
       "      <td>0</td>\n",
       "      <td>0</td>\n",
       "      <td>0</td>\n",
       "      <td>0</td>\n",
       "    </tr>\n",
       "    <tr>\n",
       "      <th>4</th>\n",
       "      <td>5</td>\n",
       "      <td>234486</td>\n",
       "      <td>4/1/2017</td>\n",
       "      <td>4/23/2017</td>\n",
       "      <td>60</td>\n",
       "      <td>F</td>\n",
       "      <td>U</td>\n",
       "      <td>E</td>\n",
       "      <td>Apr-17</td>\n",
       "      <td>23</td>\n",
       "      <td>...</td>\n",
       "      <td>0</td>\n",
       "      <td>0</td>\n",
       "      <td>0</td>\n",
       "      <td>0</td>\n",
       "      <td>0</td>\n",
       "      <td>0</td>\n",
       "      <td>0</td>\n",
       "      <td>0</td>\n",
       "      <td>0</td>\n",
       "      <td>0</td>\n",
       "    </tr>\n",
       "  </tbody>\n",
       "</table>\n",
       "<p>5 rows × 56 columns</p>\n",
       "</div>"
      ],
      "text/plain": [
       "   SNO MRD No.     D.O.A      D.O.D  AGE GENDER RURAL  \\\n",
       "0    1  234735  4/1/2017   4/3/2017   81      M     R   \n",
       "1    2  234696  4/1/2017   4/5/2017   65      M     R   \n",
       "2    3  234882  4/1/2017   4/3/2017   53      M     U   \n",
       "3    4  234635  4/1/2017   4/8/2017   67      F     U   \n",
       "4    5  234486  4/1/2017  4/23/2017   60      F     U   \n",
       "\n",
       "  TYPE OF ADMISSION-EMERGENCY/OPD month year  DURATION OF STAY  ...  \\\n",
       "0                               E     Apr-17                 3  ...   \n",
       "1                               E     Apr-17                 5  ...   \n",
       "2                               E     Apr-17                 3  ...   \n",
       "3                               E     Apr-17                 8  ...   \n",
       "4                               E     Apr-17                23  ...   \n",
       "\n",
       "   CONGENITAL UTI  NEURO CARDIOGENIC SYNCOPE  ORTHOSTATIC  \\\n",
       "0           0   0                          0            0   \n",
       "1           0   0                          0            0   \n",
       "2           0   0                          0            0   \n",
       "3           0   0                          0            0   \n",
       "4           0   0                          0            0   \n",
       "\n",
       "   INFECTIVE ENDOCARDITIS  DVT  CARDIOGENIC SHOCK  SHOCK  PULMONARY EMBOLISM  \\\n",
       "0                       0    0                  0      0                   0   \n",
       "1                       0    0                  0      0                   0   \n",
       "2                       0    0                  0      0                   0   \n",
       "3                       0    0                  0      0                   0   \n",
       "4                       0    0                  0      0                   0   \n",
       "\n",
       "  CHEST INFECTION  \n",
       "0               0  \n",
       "1               0  \n",
       "2               0  \n",
       "3               0  \n",
       "4               0  \n",
       "\n",
       "[5 rows x 56 columns]"
      ]
     },
     "execution_count": 3,
     "metadata": {},
     "output_type": "execute_result"
    }
   ],
   "source": [
    "admissions.head()"
   ]
  },
  {
   "cell_type": "code",
   "execution_count": 8,
   "id": "d9a20dd8-0691-4332-bf42-1f45d0ab9ac1",
   "metadata": {},
   "outputs": [
    {
     "name": "stdout",
     "output_type": "stream",
     "text": [
      "15757\n"
     ]
    }
   ],
   "source": [
    "print(len(admissions))"
   ]
  },
  {
   "cell_type": "code",
   "execution_count": 24,
   "id": "b291c1c4-cabf-461f-bd3f-2bbb18fa6079",
   "metadata": {},
   "outputs": [
    {
     "name": "stdout",
     "output_type": "stream",
     "text": [
      "9990\n"
     ]
    }
   ],
   "source": [
    "print(len(admissions[admissions['GENDER'] == 'M']))"
   ]
  },
  {
   "cell_type": "code",
   "execution_count": 25,
   "id": "10677413-36a3-4e29-9f9d-6c0693bc7a0f",
   "metadata": {},
   "outputs": [
    {
     "data": {
      "text/plain": [
       "<Axes: xlabel='GENDER', ylabel='count'>"
      ]
     },
     "execution_count": 25,
     "metadata": {},
     "output_type": "execute_result"
    },
    {
     "data": {
      "image/png": "[encoded data removed]",
      "text/plain": [
       "<Figure size 640x480 with 1 Axes>"
      ]
     },
     "metadata": {},
     "output_type": "display_data"
    }
   ],
   "source": [
    "sns.countplot(x=admissions['GENDER'], data = admissions)"
   ]
  },
  {
   "cell_type": "code",
   "execution_count": 29,
   "id": "cf1b9b7d-102d-48e3-a3b6-59ed8381deed",
   "metadata": {},
   "outputs": [
    {
     "name": "stdout",
     "output_type": "stream",
     "text": [
      "110\n"
     ]
    }
   ],
   "source": [
    "print(max(admissions['AGE']))"
   ]
  },
  {
   "cell_type": "code",
   "execution_count": 41,
   "id": "29a48736-ddfc-4b11-b13e-57642bbe40f3",
   "metadata": {},
   "outputs": [
    {
     "data": {
      "text/plain": [
       "'60-79'"
      ]
     },
     "execution_count": 41,
     "metadata": {},
     "output_type": "execute_result"
    }
   ],
   "source": [
    "bins = [0,20,40,60,80,100,120]\n",
    "labels = ['0-19','20-39','40-59','60-79','80-99','100-119']\n",
    "admissions['AGE_GROUP'] = pd.cut(admissions['AGE'], bins=bins, labels=labels, right=False)\n",
    "admissions['AGE_GROUP'].value_counts().idxmax()\n"
   ]
  },
  {
   "cell_type": "code",
   "execution_count": 43,
   "id": "5bfbb672-2aaf-491c-8665-e3189e4a26e9",
   "metadata": {},
   "outputs": [
    {
     "data": {
      "text/plain": [
       "TYPE OF ADMISSION-EMERGENCY/OPD\n",
       "E    10924\n",
       "O     4833\n",
       "Name: count, dtype: int64"
      ]
     },
     "execution_count": 43,
     "metadata": {},
     "output_type": "execute_result"
    }
   ],
   "source": [
    "admissions['TYPE OF ADMISSION-EMERGENCY/OPD'].value_counts().head()"
   ]
  },
  {
   "cell_type": "code",
   "execution_count": 47,
   "id": "858b1ef1-6a90-47a0-8a34-1605d3a09038",
   "metadata": {},
   "outputs": [
    {
     "ename": "KeyError",
     "evalue": "'DEPARTMENTS'",
     "output_type": "error",
     "traceback": [
      "\u001b[31m---------------------------------------------------------------------------\u001b[39m",
      "\u001b[31mKeyError\u001b[39m                                  Traceback (most recent call last)",
      "\u001b[36mFile \u001b[39m\u001b[32m~\\AppData\\Local\\Programs\\Python\\Python313\\Lib\\site-packages\\pandas\\core\\indexes\\base.py:3805\u001b[39m, in \u001b[36mIndex.get_loc\u001b[39m\u001b[34m(self, key)\u001b[39m\n\u001b[32m   3804\u001b[39m \u001b[38;5;28;01mtry\u001b[39;00m:\n\u001b[32m-> \u001b[39m\u001b[32m3805\u001b[39m     \u001b[38;5;28;01mreturn\u001b[39;00m \u001b[38;5;28;43mself\u001b[39;49m\u001b[43m.\u001b[49m\u001b[43m_engine\u001b[49m\u001b[43m.\u001b[49m\u001b[43mget_loc\u001b[49m\u001b[43m(\u001b[49m\u001b[43mcasted_key\u001b[49m\u001b[43m)\u001b[49m\n\u001b[32m   3806\u001b[39m \u001b[38;5;28;01mexcept\u001b[39;00m \u001b[38;5;167;01mKeyError\u001b[39;00m \u001b[38;5;28;01mas\u001b[39;00m err:\n",
      "\u001b[36mFile \u001b[39m\u001b[32mindex.pyx:167\u001b[39m, in \u001b[36mpandas._libs.index.IndexEngine.get_loc\u001b[39m\u001b[34m()\u001b[39m\n",
      "\u001b[36mFile \u001b[39m\u001b[32mindex.pyx:196\u001b[39m, in \u001b[36mpandas._libs.index.IndexEngine.get_loc\u001b[39m\u001b[34m()\u001b[39m\n",
      "\u001b[36mFile \u001b[39m\u001b[32mpandas\\\\_libs\\\\hashtable_class_helper.pxi:7081\u001b[39m, in \u001b[36mpandas._libs.hashtable.PyObjectHashTable.get_item\u001b[39m\u001b[34m()\u001b[39m\n",
      "\u001b[36mFile \u001b[39m\u001b[32mpandas\\\\_libs\\\\hashtable_class_helper.pxi:7089\u001b[39m, in \u001b[36mpandas._libs.hashtable.PyObjectHashTable.get_item\u001b[39m\u001b[34m()\u001b[39m\n",
      "\u001b[31mKeyError\u001b[39m: 'DEPARTMENTS'",
      "\nThe above exception was the direct cause of the following exception:\n",
      "\u001b[31mKeyError\u001b[39m                                  Traceback (most recent call last)",
      "\u001b[36mCell\u001b[39m\u001b[36m \u001b[39m\u001b[32mIn[47]\u001b[39m\u001b[32m, line 1\u001b[39m\n\u001b[32m----> \u001b[39m\u001b[32m1\u001b[39m \u001b[43madmissions\u001b[49m\u001b[43m[\u001b[49m\u001b[33;43m'\u001b[39;49m\u001b[33;43mDEPARTMENTS\u001b[39;49m\u001b[33;43m'\u001b[39;49m\u001b[43m]\u001b[49m\n",
      "\u001b[36mFile \u001b[39m\u001b[32m~\\AppData\\Local\\Programs\\Python\\Python313\\Lib\\site-packages\\pandas\\core\\frame.py:4102\u001b[39m, in \u001b[36mDataFrame.__getitem__\u001b[39m\u001b[34m(self, key)\u001b[39m\n\u001b[32m   4100\u001b[39m \u001b[38;5;28;01mif\u001b[39;00m \u001b[38;5;28mself\u001b[39m.columns.nlevels > \u001b[32m1\u001b[39m:\n\u001b[32m   4101\u001b[39m     \u001b[38;5;28;01mreturn\u001b[39;00m \u001b[38;5;28mself\u001b[39m._getitem_multilevel(key)\n\u001b[32m-> \u001b[39m\u001b[32m4102\u001b[39m indexer = \u001b[38;5;28;43mself\u001b[39;49m\u001b[43m.\u001b[49m\u001b[43mcolumns\u001b[49m\u001b[43m.\u001b[49m\u001b[43mget_loc\u001b[49m\u001b[43m(\u001b[49m\u001b[43mkey\u001b[49m\u001b[43m)\u001b[49m\n\u001b[32m   4103\u001b[39m \u001b[38;5;28;01mif\u001b[39;00m is_integer(indexer):\n\u001b[32m   4104\u001b[39m     indexer = [indexer]\n",
      "\u001b[36mFile \u001b[39m\u001b[32m~\\AppData\\Local\\Programs\\Python\\Python313\\Lib\\site-packages\\pandas\\core\\indexes\\base.py:3812\u001b[39m, in \u001b[36mIndex.get_loc\u001b[39m\u001b[34m(self, key)\u001b[39m\n\u001b[32m   3807\u001b[39m     \u001b[38;5;28;01mif\u001b[39;00m \u001b[38;5;28misinstance\u001b[39m(casted_key, \u001b[38;5;28mslice\u001b[39m) \u001b[38;5;129;01mor\u001b[39;00m (\n\u001b[32m   3808\u001b[39m         \u001b[38;5;28misinstance\u001b[39m(casted_key, abc.Iterable)\n\u001b[32m   3809\u001b[39m         \u001b[38;5;129;01mand\u001b[39;00m \u001b[38;5;28many\u001b[39m(\u001b[38;5;28misinstance\u001b[39m(x, \u001b[38;5;28mslice\u001b[39m) \u001b[38;5;28;01mfor\u001b[39;00m x \u001b[38;5;129;01min\u001b[39;00m casted_key)\n\u001b[32m   3810\u001b[39m     ):\n\u001b[32m   3811\u001b[39m         \u001b[38;5;28;01mraise\u001b[39;00m InvalidIndexError(key)\n\u001b[32m-> \u001b[39m\u001b[32m3812\u001b[39m     \u001b[38;5;28;01mraise\u001b[39;00m \u001b[38;5;167;01mKeyError\u001b[39;00m(key) \u001b[38;5;28;01mfrom\u001b[39;00m\u001b[38;5;250m \u001b[39m\u001b[34;01merr\u001b[39;00m\n\u001b[32m   3813\u001b[39m \u001b[38;5;28;01mexcept\u001b[39;00m \u001b[38;5;167;01mTypeError\u001b[39;00m:\n\u001b[32m   3814\u001b[39m     \u001b[38;5;66;03m# If we have a listlike key, _check_indexing_error will raise\u001b[39;00m\n\u001b[32m   3815\u001b[39m     \u001b[38;5;66;03m#  InvalidIndexError. Otherwise we fall through and re-raise\u001b[39;00m\n\u001b[32m   3816\u001b[39m     \u001b[38;5;66;03m#  the TypeError.\u001b[39;00m\n\u001b[32m   3817\u001b[39m     \u001b[38;5;28mself\u001b[39m._check_indexing_error(key)\n",
      "\u001b[31mKeyError\u001b[39m: 'DEPARTMENTS'"
     ]
    }
   ],
   "source": [
    "admissions['"
   ]
  },
  {
   "cell_type": "code",
   "execution_count": 54,
   "id": "03929320-4625-43e1-a399-925be0a92ae3",
   "metadata": {},
   "outputs": [
    {
     "ename": "ValueError",
     "evalue": "time data \"4/13/2017\" doesn't match format \"%d/%m/%Y\", at position 19. You might want to try:\n    - passing `format` if your strings have a consistent format;\n    - passing `format='ISO8601'` if your strings are all ISO8601 but not necessarily in exactly the same format;\n    - passing `format='mixed'`, and the format will be inferred for each element individually. You might want to use `dayfirst` alongside this.",
     "output_type": "error",
     "traceback": [
      "\u001b[31m---------------------------------------------------------------------------\u001b[39m",
      "\u001b[31mValueError\u001b[39m                                Traceback (most recent call last)",
      "\u001b[36mCell\u001b[39m\u001b[36m \u001b[39m\u001b[32mIn[54]\u001b[39m\u001b[32m, line 1\u001b[39m\n\u001b[32m----> \u001b[39m\u001b[32m1\u001b[39m admissions[\u001b[33m'\u001b[39m\u001b[33mD.O.A\u001b[39m\u001b[33m'\u001b[39m] = \u001b[43mpd\u001b[49m\u001b[43m.\u001b[49m\u001b[43mto_datetime\u001b[49m\u001b[43m(\u001b[49m\u001b[43madmissions\u001b[49m\u001b[43m[\u001b[49m\u001b[33;43m'\u001b[39;49m\u001b[33;43mD.O.A\u001b[39;49m\u001b[33;43m'\u001b[39;49m\u001b[43m]\u001b[49m\u001b[43m,\u001b[49m\u001b[43m \u001b[49m\u001b[43mdayfirst\u001b[49m\u001b[43m=\u001b[49m\u001b[38;5;28;43;01mTrue\u001b[39;49;00m\u001b[43m)\u001b[49m\n",
      "\u001b[36mFile \u001b[39m\u001b[32m~\\AppData\\Local\\Programs\\Python\\Python313\\Lib\\site-packages\\pandas\\core\\tools\\datetimes.py:1063\u001b[39m, in \u001b[36mto_datetime\u001b[39m\u001b[34m(arg, errors, dayfirst, yearfirst, utc, format, exact, unit, infer_datetime_format, origin, cache)\u001b[39m\n\u001b[32m   1061\u001b[39m             result = arg.tz_localize(\u001b[33m\"\u001b[39m\u001b[33mutc\u001b[39m\u001b[33m\"\u001b[39m)\n\u001b[32m   1062\u001b[39m \u001b[38;5;28;01melif\u001b[39;00m \u001b[38;5;28misinstance\u001b[39m(arg, ABCSeries):\n\u001b[32m-> \u001b[39m\u001b[32m1063\u001b[39m     cache_array = \u001b[43m_maybe_cache\u001b[49m\u001b[43m(\u001b[49m\u001b[43marg\u001b[49m\u001b[43m,\u001b[49m\u001b[43m \u001b[49m\u001b[38;5;28;43mformat\u001b[39;49m\u001b[43m,\u001b[49m\u001b[43m \u001b[49m\u001b[43mcache\u001b[49m\u001b[43m,\u001b[49m\u001b[43m \u001b[49m\u001b[43mconvert_listlike\u001b[49m\u001b[43m)\u001b[49m\n\u001b[32m   1064\u001b[39m     \u001b[38;5;28;01mif\u001b[39;00m \u001b[38;5;129;01mnot\u001b[39;00m cache_array.empty:\n\u001b[32m   1065\u001b[39m         result = arg.map(cache_array)\n",
      "\u001b[36mFile \u001b[39m\u001b[32m~\\AppData\\Local\\Programs\\Python\\Python313\\Lib\\site-packages\\pandas\\core\\tools\\datetimes.py:247\u001b[39m, in \u001b[36m_maybe_cache\u001b[39m\u001b[34m(arg, format, cache, convert_listlike)\u001b[39m\n\u001b[32m    245\u001b[39m unique_dates = unique(arg)\n\u001b[32m    246\u001b[39m \u001b[38;5;28;01mif\u001b[39;00m \u001b[38;5;28mlen\u001b[39m(unique_dates) < \u001b[38;5;28mlen\u001b[39m(arg):\n\u001b[32m--> \u001b[39m\u001b[32m247\u001b[39m     cache_dates = \u001b[43mconvert_listlike\u001b[49m\u001b[43m(\u001b[49m\u001b[43munique_dates\u001b[49m\u001b[43m,\u001b[49m\u001b[43m \u001b[49m\u001b[38;5;28;43mformat\u001b[39;49m\u001b[43m)\u001b[49m\n\u001b[32m    248\u001b[39m     \u001b[38;5;66;03m# GH#45319\u001b[39;00m\n\u001b[32m    249\u001b[39m     \u001b[38;5;28;01mtry\u001b[39;00m:\n",
      "\u001b[36mFile \u001b[39m\u001b[32m~\\AppData\\Local\\Programs\\Python\\Python313\\Lib\\site-packages\\pandas\\core\\tools\\datetimes.py:433\u001b[39m, in \u001b[36m_convert_listlike_datetimes\u001b[39m\u001b[34m(arg, format, name, utc, unit, errors, dayfirst, yearfirst, exact)\u001b[39m\n\u001b[32m    431\u001b[39m \u001b[38;5;66;03m# `format` could be inferred, or user didn't ask for mixed-format parsing.\u001b[39;00m\n\u001b[32m    432\u001b[39m \u001b[38;5;28;01mif\u001b[39;00m \u001b[38;5;28mformat\u001b[39m \u001b[38;5;129;01mis\u001b[39;00m \u001b[38;5;129;01mnot\u001b[39;00m \u001b[38;5;28;01mNone\u001b[39;00m \u001b[38;5;129;01mand\u001b[39;00m \u001b[38;5;28mformat\u001b[39m != \u001b[33m\"\u001b[39m\u001b[33mmixed\u001b[39m\u001b[33m\"\u001b[39m:\n\u001b[32m--> \u001b[39m\u001b[32m433\u001b[39m     \u001b[38;5;28;01mreturn\u001b[39;00m \u001b[43m_array_strptime_with_fallback\u001b[49m\u001b[43m(\u001b[49m\u001b[43marg\u001b[49m\u001b[43m,\u001b[49m\u001b[43m \u001b[49m\u001b[43mname\u001b[49m\u001b[43m,\u001b[49m\u001b[43m \u001b[49m\u001b[43mutc\u001b[49m\u001b[43m,\u001b[49m\u001b[43m \u001b[49m\u001b[38;5;28;43mformat\u001b[39;49m\u001b[43m,\u001b[49m\u001b[43m \u001b[49m\u001b[43mexact\u001b[49m\u001b[43m,\u001b[49m\u001b[43m \u001b[49m\u001b[43merrors\u001b[49m\u001b[43m)\u001b[49m\n\u001b[32m    435\u001b[39m result, tz_parsed = objects_to_datetime64(\n\u001b[32m    436\u001b[39m     arg,\n\u001b[32m    437\u001b[39m     dayfirst=dayfirst,\n\u001b[32m   (...)\u001b[39m\u001b[32m    441\u001b[39m     allow_object=\u001b[38;5;28;01mTrue\u001b[39;00m,\n\u001b[32m    442\u001b[39m )\n\u001b[32m    444\u001b[39m \u001b[38;5;28;01mif\u001b[39;00m tz_parsed \u001b[38;5;129;01mis\u001b[39;00m \u001b[38;5;129;01mnot\u001b[39;00m \u001b[38;5;28;01mNone\u001b[39;00m:\n\u001b[32m    445\u001b[39m     \u001b[38;5;66;03m# We can take a shortcut since the datetime64 numpy array\u001b[39;00m\n\u001b[32m    446\u001b[39m     \u001b[38;5;66;03m# is in UTC\u001b[39;00m\n",
      "\u001b[36mFile \u001b[39m\u001b[32m~\\AppData\\Local\\Programs\\Python\\Python313\\Lib\\site-packages\\pandas\\core\\tools\\datetimes.py:467\u001b[39m, in \u001b[36m_array_strptime_with_fallback\u001b[39m\u001b[34m(arg, name, utc, fmt, exact, errors)\u001b[39m\n\u001b[32m    456\u001b[39m \u001b[38;5;28;01mdef\u001b[39;00m\u001b[38;5;250m \u001b[39m\u001b[34m_array_strptime_with_fallback\u001b[39m(\n\u001b[32m    457\u001b[39m     arg,\n\u001b[32m    458\u001b[39m     name,\n\u001b[32m   (...)\u001b[39m\u001b[32m    462\u001b[39m     errors: \u001b[38;5;28mstr\u001b[39m,\n\u001b[32m    463\u001b[39m ) -> Index:\n\u001b[32m    464\u001b[39m \u001b[38;5;250m    \u001b[39m\u001b[33;03m\"\"\"\u001b[39;00m\n\u001b[32m    465\u001b[39m \u001b[33;03m    Call array_strptime, with fallback behavior depending on 'errors'.\u001b[39;00m\n\u001b[32m    466\u001b[39m \u001b[33;03m    \"\"\"\u001b[39;00m\n\u001b[32m--> \u001b[39m\u001b[32m467\u001b[39m     result, tz_out = \u001b[43marray_strptime\u001b[49m\u001b[43m(\u001b[49m\u001b[43marg\u001b[49m\u001b[43m,\u001b[49m\u001b[43m \u001b[49m\u001b[43mfmt\u001b[49m\u001b[43m,\u001b[49m\u001b[43m \u001b[49m\u001b[43mexact\u001b[49m\u001b[43m=\u001b[49m\u001b[43mexact\u001b[49m\u001b[43m,\u001b[49m\u001b[43m \u001b[49m\u001b[43merrors\u001b[49m\u001b[43m=\u001b[49m\u001b[43merrors\u001b[49m\u001b[43m,\u001b[49m\u001b[43m \u001b[49m\u001b[43mutc\u001b[49m\u001b[43m=\u001b[49m\u001b[43mutc\u001b[49m\u001b[43m)\u001b[49m\n\u001b[32m    468\u001b[39m     \u001b[38;5;28;01mif\u001b[39;00m tz_out \u001b[38;5;129;01mis\u001b[39;00m \u001b[38;5;129;01mnot\u001b[39;00m \u001b[38;5;28;01mNone\u001b[39;00m:\n\u001b[32m    469\u001b[39m         unit = np.datetime_data(result.dtype)[\u001b[32m0\u001b[39m]\n",
      "\u001b[36mFile \u001b[39m\u001b[32mstrptime.pyx:501\u001b[39m, in \u001b[36mpandas._libs.tslibs.strptime.array_strptime\u001b[39m\u001b[34m()\u001b[39m\n",
      "\u001b[36mFile \u001b[39m\u001b[32mstrptime.pyx:451\u001b[39m, in \u001b[36mpandas._libs.tslibs.strptime.array_strptime\u001b[39m\u001b[34m()\u001b[39m\n",
      "\u001b[36mFile \u001b[39m\u001b[32mstrptime.pyx:583\u001b[39m, in \u001b[36mpandas._libs.tslibs.strptime._parse_with_format\u001b[39m\u001b[34m()\u001b[39m\n",
      "\u001b[31mValueError\u001b[39m: time data \"4/13/2017\" doesn't match format \"%d/%m/%Y\", at position 19. You might want to try:\n    - passing `format` if your strings have a consistent format;\n    - passing `format='ISO8601'` if your strings are all ISO8601 but not necessarily in exactly the same format;\n    - passing `format='mixed'`, and the format will be inferred for each element individually. You might want to use `dayfirst` alongside this."
     ]
    }
   ],
   "source": [
    "admissions['D.O.A'] = pd.to_datetime(admissions['D.O.A'], dayfirst=True)\n"
   ]
  },
  {
   "cell_type": "code",
   "execution_count": 55,
   "id": "27d3f293-116a-4f6a-bcd9-678c5576c73c",
   "metadata": {},
   "outputs": [],
   "source": [
    "admissions['D.O.A'] = pd.to_datetime(admissions['D.O.A'], format='mixed', dayfirst=True, errors='coerce')\n",
    "\n"
   ]
  },
  {
   "cell_type": "code",
   "execution_count": 56,
   "id": "4293da06-0179-4429-9e9f-dc561dcfc521",
   "metadata": {},
   "outputs": [
    {
     "data": {
      "text/html": [
       "<div>\n",
       "<style scoped>\n",
       "    .dataframe tbody tr th:only-of-type {\n",
       "        vertical-align: middle;\n",
       "    }\n",
       "\n",
       "    .dataframe tbody tr th {\n",
       "        vertical-align: top;\n",
       "    }\n",
       "\n",
       "    .dataframe thead th {\n",
       "        text-align: right;\n",
       "    }\n",
       "</style>\n",
       "<table border=\"1\" class=\"dataframe\">\n",
       "  <thead>\n",
       "    <tr style=\"text-align: right;\">\n",
       "      <th></th>\n",
       "      <th>SNO</th>\n",
       "      <th>MRD No.</th>\n",
       "      <th>D.O.A</th>\n",
       "      <th>D.O.D</th>\n",
       "      <th>AGE</th>\n",
       "      <th>GENDER</th>\n",
       "      <th>RURAL</th>\n",
       "      <th>TYPE OF ADMISSION-EMERGENCY/OPD</th>\n",
       "      <th>month year</th>\n",
       "      <th>DURATION OF STAY</th>\n",
       "      <th>...</th>\n",
       "      <th>UTI</th>\n",
       "      <th>NEURO CARDIOGENIC SYNCOPE</th>\n",
       "      <th>ORTHOSTATIC</th>\n",
       "      <th>INFECTIVE ENDOCARDITIS</th>\n",
       "      <th>DVT</th>\n",
       "      <th>CARDIOGENIC SHOCK</th>\n",
       "      <th>SHOCK</th>\n",
       "      <th>PULMONARY EMBOLISM</th>\n",
       "      <th>CHEST INFECTION</th>\n",
       "      <th>AGE_GROUP</th>\n",
       "    </tr>\n",
       "  </thead>\n",
       "  <tbody>\n",
       "    <tr>\n",
       "      <th>0</th>\n",
       "      <td>1</td>\n",
       "      <td>234735</td>\n",
       "      <td>2017-01-04</td>\n",
       "      <td>4/3/2017</td>\n",
       "      <td>81</td>\n",
       "      <td>M</td>\n",
       "      <td>R</td>\n",
       "      <td>E</td>\n",
       "      <td>Apr-17</td>\n",
       "      <td>3</td>\n",
       "      <td>...</td>\n",
       "      <td>0</td>\n",
       "      <td>0</td>\n",
       "      <td>0</td>\n",
       "      <td>0</td>\n",
       "      <td>0</td>\n",
       "      <td>0</td>\n",
       "      <td>0</td>\n",
       "      <td>0</td>\n",
       "      <td>0</td>\n",
       "      <td>80-99</td>\n",
       "    </tr>\n",
       "    <tr>\n",
       "      <th>1</th>\n",
       "      <td>2</td>\n",
       "      <td>234696</td>\n",
       "      <td>2017-01-04</td>\n",
       "      <td>4/5/2017</td>\n",
       "      <td>65</td>\n",
       "      <td>M</td>\n",
       "      <td>R</td>\n",
       "      <td>E</td>\n",
       "      <td>Apr-17</td>\n",
       "      <td>5</td>\n",
       "      <td>...</td>\n",
       "      <td>0</td>\n",
       "      <td>0</td>\n",
       "      <td>0</td>\n",
       "      <td>0</td>\n",
       "      <td>0</td>\n",
       "      <td>0</td>\n",
       "      <td>0</td>\n",
       "      <td>0</td>\n",
       "      <td>0</td>\n",
       "      <td>60-79</td>\n",
       "    </tr>\n",
       "    <tr>\n",
       "      <th>2</th>\n",
       "      <td>3</td>\n",
       "      <td>234882</td>\n",
       "      <td>2017-01-04</td>\n",
       "      <td>4/3/2017</td>\n",
       "      <td>53</td>\n",
       "      <td>M</td>\n",
       "      <td>U</td>\n",
       "      <td>E</td>\n",
       "      <td>Apr-17</td>\n",
       "      <td>3</td>\n",
       "      <td>...</td>\n",
       "      <td>0</td>\n",
       "      <td>0</td>\n",
       "      <td>0</td>\n",
       "      <td>0</td>\n",
       "      <td>0</td>\n",
       "      <td>0</td>\n",
       "      <td>0</td>\n",
       "      <td>0</td>\n",
       "      <td>0</td>\n",
       "      <td>40-59</td>\n",
       "    </tr>\n",
       "    <tr>\n",
       "      <th>3</th>\n",
       "      <td>4</td>\n",
       "      <td>234635</td>\n",
       "      <td>2017-01-04</td>\n",
       "      <td>4/8/2017</td>\n",
       "      <td>67</td>\n",
       "      <td>F</td>\n",
       "      <td>U</td>\n",
       "      <td>E</td>\n",
       "      <td>Apr-17</td>\n",
       "      <td>8</td>\n",
       "      <td>...</td>\n",
       "      <td>0</td>\n",
       "      <td>0</td>\n",
       "      <td>0</td>\n",
       "      <td>0</td>\n",
       "      <td>0</td>\n",
       "      <td>0</td>\n",
       "      <td>0</td>\n",
       "      <td>0</td>\n",
       "      <td>0</td>\n",
       "      <td>60-79</td>\n",
       "    </tr>\n",
       "    <tr>\n",
       "      <th>4</th>\n",
       "      <td>5</td>\n",
       "      <td>234486</td>\n",
       "      <td>2017-01-04</td>\n",
       "      <td>4/23/2017</td>\n",
       "      <td>60</td>\n",
       "      <td>F</td>\n",
       "      <td>U</td>\n",
       "      <td>E</td>\n",
       "      <td>Apr-17</td>\n",
       "      <td>23</td>\n",
       "      <td>...</td>\n",
       "      <td>0</td>\n",
       "      <td>0</td>\n",
       "      <td>0</td>\n",
       "      <td>0</td>\n",
       "      <td>0</td>\n",
       "      <td>0</td>\n",
       "      <td>0</td>\n",
       "      <td>0</td>\n",
       "      <td>0</td>\n",
       "      <td>60-79</td>\n",
       "    </tr>\n",
       "    <tr>\n",
       "      <th>...</th>\n",
       "      <td>...</td>\n",
       "      <td>...</td>\n",
       "      <td>...</td>\n",
       "      <td>...</td>\n",
       "      <td>...</td>\n",
       "      <td>...</td>\n",
       "      <td>...</td>\n",
       "      <td>...</td>\n",
       "      <td>...</td>\n",
       "      <td>...</td>\n",
       "      <td>...</td>\n",
       "      <td>...</td>\n",
       "      <td>...</td>\n",
       "      <td>...</td>\n",
       "      <td>...</td>\n",
       "      <td>...</td>\n",
       "      <td>...</td>\n",
       "      <td>...</td>\n",
       "      <td>...</td>\n",
       "      <td>...</td>\n",
       "      <td>...</td>\n",
       "    </tr>\n",
       "    <tr>\n",
       "      <th>15752</th>\n",
       "      <td>15753</td>\n",
       "      <td>699585</td>\n",
       "      <td>2019-03-31</td>\n",
       "      <td>04/04/2019</td>\n",
       "      <td>86</td>\n",
       "      <td>F</td>\n",
       "      <td>U</td>\n",
       "      <td>O</td>\n",
       "      <td>Mar-19</td>\n",
       "      <td>5</td>\n",
       "      <td>...</td>\n",
       "      <td>0</td>\n",
       "      <td>0</td>\n",
       "      <td>0</td>\n",
       "      <td>0</td>\n",
       "      <td>0</td>\n",
       "      <td>0</td>\n",
       "      <td>0</td>\n",
       "      <td>0</td>\n",
       "      <td>0</td>\n",
       "      <td>80-99</td>\n",
       "    </tr>\n",
       "    <tr>\n",
       "      <th>15753</th>\n",
       "      <td>15754</td>\n",
       "      <td>699500</td>\n",
       "      <td>2019-03-31</td>\n",
       "      <td>4/1/2019</td>\n",
       "      <td>50</td>\n",
       "      <td>M</td>\n",
       "      <td>R</td>\n",
       "      <td>E</td>\n",
       "      <td>Mar-19</td>\n",
       "      <td>2</td>\n",
       "      <td>...</td>\n",
       "      <td>0</td>\n",
       "      <td>0</td>\n",
       "      <td>0</td>\n",
       "      <td>0</td>\n",
       "      <td>0</td>\n",
       "      <td>0</td>\n",
       "      <td>0</td>\n",
       "      <td>0</td>\n",
       "      <td>0</td>\n",
       "      <td>40-59</td>\n",
       "    </tr>\n",
       "    <tr>\n",
       "      <th>15754</th>\n",
       "      <td>15755</td>\n",
       "      <td>700415</td>\n",
       "      <td>2019-03-31</td>\n",
       "      <td>09/04/2019</td>\n",
       "      <td>82</td>\n",
       "      <td>M</td>\n",
       "      <td>U</td>\n",
       "      <td>E</td>\n",
       "      <td>Mar-19</td>\n",
       "      <td>10</td>\n",
       "      <td>...</td>\n",
       "      <td>0</td>\n",
       "      <td>0</td>\n",
       "      <td>0</td>\n",
       "      <td>0</td>\n",
       "      <td>0</td>\n",
       "      <td>0</td>\n",
       "      <td>0</td>\n",
       "      <td>0</td>\n",
       "      <td>0</td>\n",
       "      <td>80-99</td>\n",
       "    </tr>\n",
       "    <tr>\n",
       "      <th>15755</th>\n",
       "      <td>15756</td>\n",
       "      <td>699524</td>\n",
       "      <td>2019-03-31</td>\n",
       "      <td>03/04/2019</td>\n",
       "      <td>59</td>\n",
       "      <td>F</td>\n",
       "      <td>U</td>\n",
       "      <td>O</td>\n",
       "      <td>Mar-19</td>\n",
       "      <td>4</td>\n",
       "      <td>...</td>\n",
       "      <td>0</td>\n",
       "      <td>0</td>\n",
       "      <td>0</td>\n",
       "      <td>0</td>\n",
       "      <td>0</td>\n",
       "      <td>0</td>\n",
       "      <td>0</td>\n",
       "      <td>0</td>\n",
       "      <td>0</td>\n",
       "      <td>40-59</td>\n",
       "    </tr>\n",
       "    <tr>\n",
       "      <th>15756</th>\n",
       "      <td>15757</td>\n",
       "      <td>699524</td>\n",
       "      <td>2019-03-31</td>\n",
       "      <td>03/04/2019</td>\n",
       "      <td>59</td>\n",
       "      <td>F</td>\n",
       "      <td>U</td>\n",
       "      <td>O</td>\n",
       "      <td>Mar-19</td>\n",
       "      <td>4</td>\n",
       "      <td>...</td>\n",
       "      <td>0</td>\n",
       "      <td>0</td>\n",
       "      <td>0</td>\n",
       "      <td>0</td>\n",
       "      <td>0</td>\n",
       "      <td>0</td>\n",
       "      <td>0</td>\n",
       "      <td>0</td>\n",
       "      <td>0</td>\n",
       "      <td>40-59</td>\n",
       "    </tr>\n",
       "  </tbody>\n",
       "</table>\n",
       "<p>15757 rows × 57 columns</p>\n",
       "</div>"
      ],
      "text/plain": [
       "         SNO MRD No.      D.O.A       D.O.D  AGE GENDER RURAL  \\\n",
       "0          1  234735 2017-01-04    4/3/2017   81      M     R   \n",
       "1          2  234696 2017-01-04    4/5/2017   65      M     R   \n",
       "2          3  234882 2017-01-04    4/3/2017   53      M     U   \n",
       "3          4  234635 2017-01-04    4/8/2017   67      F     U   \n",
       "4          5  234486 2017-01-04   4/23/2017   60      F     U   \n",
       "...      ...     ...        ...         ...  ...    ...   ...   \n",
       "15752  15753  699585 2019-03-31  04/04/2019   86      F     U   \n",
       "15753  15754  699500 2019-03-31    4/1/2019   50      M     R   \n",
       "15754  15755  700415 2019-03-31  09/04/2019   82      M     U   \n",
       "15755  15756  699524 2019-03-31  03/04/2019   59      F     U   \n",
       "15756  15757  699524 2019-03-31  03/04/2019   59      F     U   \n",
       "\n",
       "      TYPE OF ADMISSION-EMERGENCY/OPD month year  DURATION OF STAY  ...  UTI  \\\n",
       "0                                   E     Apr-17                 3  ...    0   \n",
       "1                                   E     Apr-17                 5  ...    0   \n",
       "2                                   E     Apr-17                 3  ...    0   \n",
       "3                                   E     Apr-17                 8  ...    0   \n",
       "4                                   E     Apr-17                23  ...    0   \n",
       "...                               ...        ...               ...  ...  ...   \n",
       "15752                               O     Mar-19                 5  ...    0   \n",
       "15753                               E     Mar-19                 2  ...    0   \n",
       "15754                               E     Mar-19                10  ...    0   \n",
       "15755                               O     Mar-19                 4  ...    0   \n",
       "15756                               O     Mar-19                 4  ...    0   \n",
       "\n",
       "      NEURO CARDIOGENIC SYNCOPE  ORTHOSTATIC  INFECTIVE ENDOCARDITIS  DVT  \\\n",
       "0                             0            0                       0    0   \n",
       "1                             0            0                       0    0   \n",
       "2                             0            0                       0    0   \n",
       "3                             0            0                       0    0   \n",
       "4                             0            0                       0    0   \n",
       "...                         ...          ...                     ...  ...   \n",
       "15752                         0            0                       0    0   \n",
       "15753                         0            0                       0    0   \n",
       "15754                         0            0                       0    0   \n",
       "15755                         0            0                       0    0   \n",
       "15756                         0            0                       0    0   \n",
       "\n",
       "       CARDIOGENIC SHOCK  SHOCK  PULMONARY EMBOLISM  CHEST INFECTION AGE_GROUP  \n",
       "0                      0      0                   0                0     80-99  \n",
       "1                      0      0                   0                0     60-79  \n",
       "2                      0      0                   0                0     40-59  \n",
       "3                      0      0                   0                0     60-79  \n",
       "4                      0      0                   0                0     60-79  \n",
       "...                  ...    ...                 ...              ...       ...  \n",
       "15752                  0      0                   0                0     80-99  \n",
       "15753                  0      0                   0                0     40-59  \n",
       "15754                  0      0                   0                0     80-99  \n",
       "15755                  0      0                   0                0     40-59  \n",
       "15756                  0      0                   0                0     40-59  \n",
       "\n",
       "[15757 rows x 57 columns]"
      ]
     },
     "execution_count": 56,
     "metadata": {},
     "output_type": "execute_result"
    }
   ],
   "source": [
    "admissions\n"
   ]
  },
  {
   "cell_type": "code",
   "execution_count": 67,
   "id": "70e4ac5c-e035-4f1c-afa8-15c4b4f7aba4",
   "metadata": {},
   "outputs": [],
   "source": [
    "days = admissions['D.O.A'].dt.day_name()\n"
   ]
  },
  {
   "cell_type": "code",
   "execution_count": 68,
   "id": "b83d5266-968a-483e-aff0-85f1b9b6dd80",
   "metadata": {},
   "outputs": [
    {
     "data": {
      "text/plain": [
       "0        Wednesday\n",
       "1        Wednesday\n",
       "2        Wednesday\n",
       "3        Wednesday\n",
       "4        Wednesday\n",
       "           ...    \n",
       "15752       Sunday\n",
       "15753       Sunday\n",
       "15754       Sunday\n",
       "15755       Sunday\n",
       "15756       Sunday\n",
       "Name: D.O.A, Length: 15757, dtype: object"
      ]
     },
     "execution_count": 68,
     "metadata": {},
     "output_type": "execute_result"
    }
   ],
   "source": [
    "days\n"
   ]
  },
  {
   "cell_type": "code",
   "execution_count": 61,
   "id": "fa731420-37b9-41fb-a386-212d87a4554f",
   "metadata": {},
   "outputs": [
    {
     "data": {
      "text/plain": [
       "D.O.A\n",
       "5     642\n",
       "7     632\n",
       "11    593\n",
       "25    575\n",
       "12    568\n",
       "20    558\n",
       "6     552\n",
       "10    551\n",
       "28    550\n",
       "26    550\n",
       "9     543\n",
       "24    533\n",
       "21    522\n",
       "13    513\n",
       "17    512\n",
       "4     507\n",
       "15    502\n",
       "22    499\n",
       "16    498\n",
       "14    492\n",
       "19    491\n",
       "27    487\n",
       "8     486\n",
       "30    471\n",
       "23    470\n",
       "18    470\n",
       "3     443\n",
       "29    442\n",
       "1     429\n",
       "2     389\n",
       "31    287\n",
       "Name: count, dtype: int64"
      ]
     },
     "execution_count": 61,
     "metadata": {},
     "output_type": "execute_result"
    }
   ],
   "source": [
    "days.value_counts()"
   ]
  },
  {
   "cell_type": "code",
   "execution_count": 69,
   "id": "426bc93b-81d6-4002-8831-42923c6273ec",
   "metadata": {},
   "outputs": [
    {
     "data": {
      "text/plain": [
       "D.O.A\n",
       "Monday    2626\n",
       "Name: count, dtype: int64"
      ]
     },
     "execution_count": 69,
     "metadata": {},
     "output_type": "execute_result"
    }
   ],
   "source": [
    "days.value_counts().head(1)"
   ]
  },
  {
   "cell_type": "code",
   "execution_count": 86,
   "id": "0034c1e8-d238-40d3-bd7a-042796ccfe1e",
   "metadata": {},
   "outputs": [],
   "source": [
    "repeated_mrds = admissions['MRD No.'].value_counts()\n",
    "\n",
    "# 2. Keep only MRD Nos with more than 1 admission\n",
    "repeated_mrds = repeated_mrds[repeated_mrds > 1]"
   ]
  },
  {
   "cell_type": "code",
   "execution_count": 87,
   "id": "88d2b88a-d25a-46bb-b06f-f449957a03b4",
   "metadata": {},
   "outputs": [
    {
     "data": {
      "text/plain": [
       "MRD No.\n",
       "256628    17\n",
       "273016    15\n",
       "325715    11\n",
       "177926    11\n",
       "153716     9\n",
       "          ..\n",
       "698594     2\n",
       "254284     2\n",
       "209944     2\n",
       "253963     2\n",
       "698047     2\n",
       "Name: count, Length: 2598, dtype: int64"
      ]
     },
     "execution_count": 87,
     "metadata": {},
     "output_type": "execute_result"
    }
   ],
   "source": [
    "repeated_mrds"
   ]
  },
  {
   "cell_type": "code",
   "execution_count": 88,
   "id": "40e90d87-e944-4c44-a120-06872a94428e",
   "metadata": {},
   "outputs": [
    {
     "name": "stdout",
     "output_type": "stream",
     "text": [
      "16.487910135178016\n"
     ]
    }
   ],
   "source": [
    "print(len(repeated_mrds) * 100 /len(admissions))"
   ]
  },
  {
   "cell_type": "code",
   "execution_count": 2,
   "id": "c20eea50-4c99-48bf-a190-90a3c5b137ba",
   "metadata": {},
   "outputs": [
    {
     "ename": "NameError",
     "evalue": "name 'admissions' is not defined",
     "output_type": "error",
     "traceback": [
      "\u001b[31m---------------------------------------------------------------------------\u001b[39m",
      "\u001b[31mNameError\u001b[39m                                 Traceback (most recent call last)",
      "\u001b[36mCell\u001b[39m\u001b[36m \u001b[39m\u001b[32mIn[2]\u001b[39m\u001b[32m, line 1\u001b[39m\n\u001b[32m----> \u001b[39m\u001b[32m1\u001b[39m diff_grp = \u001b[43madmissions\u001b[49m.groupby([\u001b[33m'\u001b[39m\u001b[33mGENDER\u001b[39m\u001b[33m'\u001b[39m,\u001b[33m'\u001b[39m\u001b[33mTYPE OF ADMISSION-EMERGENCY/OPD\u001b[39m\u001b[33m'\u001b[39m]).size().unstack()\n",
      "\u001b[31mNameError\u001b[39m: name 'admissions' is not defined"
     ]
    }
   ],
   "source": [
    "diff_grp = admissions.groupby(['GENDER','TYPE OF ADMISSION-EMERGENCY/OPD']).size().unstack()"
   ]
  },
  {
   "cell_type": "code",
   "execution_count": 3,
   "id": "b9194903-2c09-4873-860b-357f67111167",
   "metadata": {},
   "outputs": [],
   "source": [
    "import pandas as pd"
   ]
  },
  {
   "cell_type": "code",
   "execution_count": 4,
   "id": "eaa60578-7c2f-4d67-acaa-5a8020012d69",
   "metadata": {},
   "outputs": [],
   "source": [
    "data = pd.read_csv('StudentsPerformance.csv')"
   ]
  },
  {
   "cell_type": "code",
   "execution_count": 5,
   "id": "b3cec4a2-a353-47d3-bda8-30f353b87aad",
   "metadata": {},
   "outputs": [
    {
     "data": {
      "text/html": [
       "<div>\n",
       "<style scoped>\n",
       "    .dataframe tbody tr th:only-of-type {\n",
       "        vertical-align: middle;\n",
       "    }\n",
       "\n",
       "    .dataframe tbody tr th {\n",
       "        vertical-align: top;\n",
       "    }\n",
       "\n",
       "    .dataframe thead th {\n",
       "        text-align: right;\n",
       "    }\n",
       "</style>\n",
       "<table border=\"1\" class=\"dataframe\">\n",
       "  <thead>\n",
       "    <tr style=\"text-align: right;\">\n",
       "      <th></th>\n",
       "      <th>gender</th>\n",
       "      <th>race/ethnicity</th>\n",
       "      <th>parental level of education</th>\n",
       "      <th>lunch</th>\n",
       "      <th>test preparation course</th>\n",
       "      <th>math score</th>\n",
       "      <th>reading score</th>\n",
       "      <th>writing score</th>\n",
       "    </tr>\n",
       "  </thead>\n",
       "  <tbody>\n",
       "    <tr>\n",
       "      <th>0</th>\n",
       "      <td>female</td>\n",
       "      <td>group B</td>\n",
       "      <td>bachelor's degree</td>\n",
       "      <td>standard</td>\n",
       "      <td>none</td>\n",
       "      <td>72</td>\n",
       "      <td>72</td>\n",
       "      <td>74</td>\n",
       "    </tr>\n",
       "    <tr>\n",
       "      <th>1</th>\n",
       "      <td>female</td>\n",
       "      <td>group C</td>\n",
       "      <td>some college</td>\n",
       "      <td>standard</td>\n",
       "      <td>completed</td>\n",
       "      <td>69</td>\n",
       "      <td>90</td>\n",
       "      <td>88</td>\n",
       "    </tr>\n",
       "    <tr>\n",
       "      <th>2</th>\n",
       "      <td>female</td>\n",
       "      <td>group B</td>\n",
       "      <td>master's degree</td>\n",
       "      <td>standard</td>\n",
       "      <td>none</td>\n",
       "      <td>90</td>\n",
       "      <td>95</td>\n",
       "      <td>93</td>\n",
       "    </tr>\n",
       "    <tr>\n",
       "      <th>3</th>\n",
       "      <td>male</td>\n",
       "      <td>group A</td>\n",
       "      <td>associate's degree</td>\n",
       "      <td>free/reduced</td>\n",
       "      <td>none</td>\n",
       "      <td>47</td>\n",
       "      <td>57</td>\n",
       "      <td>44</td>\n",
       "    </tr>\n",
       "    <tr>\n",
       "      <th>4</th>\n",
       "      <td>male</td>\n",
       "      <td>group C</td>\n",
       "      <td>some college</td>\n",
       "      <td>standard</td>\n",
       "      <td>none</td>\n",
       "      <td>76</td>\n",
       "      <td>78</td>\n",
       "      <td>75</td>\n",
       "    </tr>\n",
       "  </tbody>\n",
       "</table>\n",
       "</div>"
      ],
      "text/plain": [
       "   gender race/ethnicity parental level of education         lunch  \\\n",
       "0  female        group B           bachelor's degree      standard   \n",
       "1  female        group C                some college      standard   \n",
       "2  female        group B             master's degree      standard   \n",
       "3    male        group A          associate's degree  free/reduced   \n",
       "4    male        group C                some college      standard   \n",
       "\n",
       "  test preparation course  math score  reading score  writing score  \n",
       "0                    none          72             72             74  \n",
       "1               completed          69             90             88  \n",
       "2                    none          90             95             93  \n",
       "3                    none          47             57             44  \n",
       "4                    none          76             78             75  "
      ]
     },
     "execution_count": 5,
     "metadata": {},
     "output_type": "execute_result"
    }
   ],
   "source": [
    "data.head()"
   ]
  },
  {
   "cell_type": "code",
   "execution_count": 15,
   "id": "be0b9411-2cdf-49ed-9fcc-b0dd82a17d14",
   "metadata": {},
   "outputs": [
    {
     "name": "stdout",
     "output_type": "stream",
     "text": [
      "<class 'pandas.core.frame.DataFrame'>\n",
      "RangeIndex: 1000 entries, 0 to 999\n",
      "Data columns (total 8 columns):\n",
      " #   Column                       Non-Null Count  Dtype \n",
      "---  ------                       --------------  ----- \n",
      " 0   gender                       1000 non-null   object\n",
      " 1   race/ethnicity               1000 non-null   object\n",
      " 2   parental level of education  1000 non-null   object\n",
      " 3   lunch                        1000 non-null   object\n",
      " 4   test preparation course      1000 non-null   object\n",
      " 5   math score                   1000 non-null   int64 \n",
      " 6   reading score                1000 non-null   int64 \n",
      " 7   writing score                1000 non-null   int64 \n",
      "dtypes: int64(3), object(5)\n",
      "memory usage: 62.6+ KB\n"
     ]
    }
   ],
   "source": [
    "data.info()"
   ]
  },
  {
   "cell_type": "code",
   "execution_count": 18,
   "id": "40bd7165-865b-4acf-a904-f5bb1cd457b9",
   "metadata": {},
   "outputs": [
    {
     "data": {
      "text/plain": [
       "gender                         0\n",
       "race/ethnicity                 0\n",
       "parental level of education    0\n",
       "lunch                          0\n",
       "test preparation course        0\n",
       "math score                     0\n",
       "reading score                  0\n",
       "writing score                  0\n",
       "dtype: int64"
      ]
     },
     "execution_count": 18,
     "metadata": {},
     "output_type": "execute_result"
    }
   ],
   "source": [
    "data.isnull().sum()"
   ]
  },
  {
   "cell_type": "code",
   "execution_count": 20,
   "id": "5e5c4741-1b2b-4caa-9490-7381a2b6d0ca",
   "metadata": {},
   "outputs": [
    {
     "data": {
      "text/plain": [
       "parental level of education\n",
       "some college          226\n",
       "associate's degree    222\n",
       "high school           196\n",
       "some high school      179\n",
       "bachelor's degree     118\n",
       "master's degree        59\n",
       "Name: count, dtype: int64"
      ]
     },
     "execution_count": 20,
     "metadata": {},
     "output_type": "execute_result"
    }
   ],
   "source": [
    "data['parental level of education'].value_counts()"
   ]
  },
  {
   "cell_type": "code",
   "execution_count": 21,
   "id": "dfd6598b-31d0-4d98-bf49-2f7bdb985c23",
   "metadata": {},
   "outputs": [
    {
     "data": {
      "text/plain": [
       "100"
      ]
     },
     "execution_count": 21,
     "metadata": {},
     "output_type": "execute_result"
    }
   ],
   "source": [
    "max(data['math score'])"
   ]
  },
  {
   "cell_type": "code",
   "execution_count": 22,
   "id": "3eb13149-1deb-45fd-8827-7754616dabc6",
   "metadata": {},
   "outputs": [],
   "source": [
    "highest_level = data.groupby('parental level of education')['math score'].mean().sort_values(ascending = False)"
   ]
  },
  {
   "cell_type": "code",
   "execution_count": 23,
   "id": "8e508884-2cee-4229-aa56-c9248006c840",
   "metadata": {},
   "outputs": [
    {
     "data": {
      "text/plain": [
       "parental level of education\n",
       "master's degree       69.745763\n",
       "bachelor's degree     69.389831\n",
       "associate's degree    67.882883\n",
       "some college          67.128319\n",
       "some high school      63.497207\n",
       "high school           62.137755\n",
       "Name: math score, dtype: float64"
      ]
     },
     "execution_count": 23,
     "metadata": {},
     "output_type": "execute_result"
    }
   ],
   "source": [
    "highest_level"
   ]
  },
  {
   "cell_type": "code",
   "execution_count": 33,
   "id": "a4aef625-c6a6-40b2-b79f-adcce4c3c69b",
   "metadata": {},
   "outputs": [
    {
     "data": {
      "text/plain": [
       "\"master's degree\""
      ]
     },
     "execution_count": 33,
     "metadata": {},
     "output_type": "execute_result"
    }
   ],
   "source": [
    "highest_level.idxmax()"
   ]
  },
  {
   "cell_type": "code",
   "execution_count": 41,
   "id": "94633857-c971-4c16-a212-ab6d6456f5a5",
   "metadata": {},
   "outputs": [
    {
     "name": "stdout",
     "output_type": "stream",
     "text": [
      "        math score  reading score  writing score\n",
      "gender                                          \n",
      "female   63.633205      72.608108      72.467181\n",
      "male     68.728216      65.473029      63.311203\n"
     ]
    }
   ],
   "source": [
    "avg_scores = data.groupby('gender')[['math score', 'reading score', 'writing score']].mean()\n",
    "print(avg_scores)\n"
   ]
  },
  {
   "cell_type": "code",
   "execution_count": 43,
   "id": "1a568a2f-7f82-4f18-8363-89c2dfa22970",
   "metadata": {},
   "outputs": [],
   "source": [
    "diff = avg_scores.loc['female'] - avg_scores.loc['male']"
   ]
  },
  {
   "cell_type": "code",
   "execution_count": 44,
   "id": "88e4ad23-9dd0-4157-98dd-bb3c931a98f0",
   "metadata": {},
   "outputs": [
    {
     "data": {
      "text/plain": [
       "math score      -5.095011\n",
       "reading score    7.135079\n",
       "writing score    9.155978\n",
       "dtype: float64"
      ]
     },
     "execution_count": 44,
     "metadata": {},
     "output_type": "execute_result"
    }
   ],
   "source": [
    "diff"
   ]
  },
  {
   "cell_type": "code",
   "execution_count": 45,
   "id": "f0d904c8-25ec-418e-91a1-3b1081ddb3e6",
   "metadata": {},
   "outputs": [
    {
     "data": {
      "text/html": [
       "<div>\n",
       "<style scoped>\n",
       "    .dataframe tbody tr th:only-of-type {\n",
       "        vertical-align: middle;\n",
       "    }\n",
       "\n",
       "    .dataframe tbody tr th {\n",
       "        vertical-align: top;\n",
       "    }\n",
       "\n",
       "    .dataframe thead th {\n",
       "        text-align: right;\n",
       "    }\n",
       "</style>\n",
       "<table border=\"1\" class=\"dataframe\">\n",
       "  <thead>\n",
       "    <tr style=\"text-align: right;\">\n",
       "      <th></th>\n",
       "      <th>gender</th>\n",
       "      <th>race/ethnicity</th>\n",
       "      <th>parental level of education</th>\n",
       "      <th>lunch</th>\n",
       "      <th>test preparation course</th>\n",
       "      <th>math score</th>\n",
       "      <th>reading score</th>\n",
       "      <th>writing score</th>\n",
       "    </tr>\n",
       "  </thead>\n",
       "  <tbody>\n",
       "    <tr>\n",
       "      <th>0</th>\n",
       "      <td>female</td>\n",
       "      <td>group B</td>\n",
       "      <td>bachelor's degree</td>\n",
       "      <td>standard</td>\n",
       "      <td>none</td>\n",
       "      <td>72</td>\n",
       "      <td>72</td>\n",
       "      <td>74</td>\n",
       "    </tr>\n",
       "    <tr>\n",
       "      <th>1</th>\n",
       "      <td>female</td>\n",
       "      <td>group C</td>\n",
       "      <td>some college</td>\n",
       "      <td>standard</td>\n",
       "      <td>completed</td>\n",
       "      <td>69</td>\n",
       "      <td>90</td>\n",
       "      <td>88</td>\n",
       "    </tr>\n",
       "    <tr>\n",
       "      <th>2</th>\n",
       "      <td>female</td>\n",
       "      <td>group B</td>\n",
       "      <td>master's degree</td>\n",
       "      <td>standard</td>\n",
       "      <td>none</td>\n",
       "      <td>90</td>\n",
       "      <td>95</td>\n",
       "      <td>93</td>\n",
       "    </tr>\n",
       "    <tr>\n",
       "      <th>3</th>\n",
       "      <td>male</td>\n",
       "      <td>group A</td>\n",
       "      <td>associate's degree</td>\n",
       "      <td>free/reduced</td>\n",
       "      <td>none</td>\n",
       "      <td>47</td>\n",
       "      <td>57</td>\n",
       "      <td>44</td>\n",
       "    </tr>\n",
       "    <tr>\n",
       "      <th>4</th>\n",
       "      <td>male</td>\n",
       "      <td>group C</td>\n",
       "      <td>some college</td>\n",
       "      <td>standard</td>\n",
       "      <td>none</td>\n",
       "      <td>76</td>\n",
       "      <td>78</td>\n",
       "      <td>75</td>\n",
       "    </tr>\n",
       "  </tbody>\n",
       "</table>\n",
       "</div>"
      ],
      "text/plain": [
       "   gender race/ethnicity parental level of education         lunch  \\\n",
       "0  female        group B           bachelor's degree      standard   \n",
       "1  female        group C                some college      standard   \n",
       "2  female        group B             master's degree      standard   \n",
       "3    male        group A          associate's degree  free/reduced   \n",
       "4    male        group C                some college      standard   \n",
       "\n",
       "  test preparation course  math score  reading score  writing score  \n",
       "0                    none          72             72             74  \n",
       "1               completed          69             90             88  \n",
       "2                    none          90             95             93  \n",
       "3                    none          47             57             44  \n",
       "4                    none          76             78             75  "
      ]
     },
     "execution_count": 45,
     "metadata": {},
     "output_type": "execute_result"
    }
   ],
   "source": [
    "data.head()"
   ]
  },
  {
   "cell_type": "code",
   "execution_count": 50,
   "id": "4d1e4d44-2624-4985-8aba-e45c8ac366e2",
   "metadata": {},
   "outputs": [
    {
     "name": "stdout",
     "output_type": "stream",
     "text": [
      "                         math score  reading score  writing score\n",
      "test preparation course                                          \n",
      "completed                 69.695531      73.893855      74.418994\n",
      "none                      64.077882      66.534268      64.504673\n"
     ]
    }
   ],
   "source": [
    "prep_diff = data.groupby('test preparation course')[['math score', 'reading score', 'writing score']].mean()\n",
    "print(prep_diff)\n"
   ]
  },
  {
   "cell_type": "code",
   "execution_count": 52,
   "id": "421f94c7-5e89-4520-ac14-382ce5745180",
   "metadata": {},
   "outputs": [],
   "source": [
    "data[\"avg_score\"] = data[['math score', 'reading score', 'writing score' ]].mean(axis = 1)"
   ]
  },
  {
   "cell_type": "code",
   "execution_count": 53,
   "id": "af86e592-35d9-4458-bfc6-e4f1276c1742",
   "metadata": {},
   "outputs": [],
   "source": [
    "threshold = data['avg_score'].quantile(0.9)"
   ]
  },
  {
   "cell_type": "code",
   "execution_count": 54,
   "id": "a886c11a-c434-4588-b7eb-d54102116e66",
   "metadata": {},
   "outputs": [
    {
     "data": {
      "text/plain": [
       "np.float64(86.0)"
      ]
     },
     "execution_count": 54,
     "metadata": {},
     "output_type": "execute_result"
    }
   ],
   "source": [
    "threshold"
   ]
  },
  {
   "cell_type": "code",
   "execution_count": 55,
   "id": "973f9b43-9092-48d1-bb0c-10d50a4bef00",
   "metadata": {},
   "outputs": [],
   "source": [
    "top_10 = data[data['avg_score'] >= threshold]"
   ]
  },
  {
   "cell_type": "code",
   "execution_count": 56,
   "id": "abc2fbd5-e8ea-4e7e-bad3-1e2cd7ae070a",
   "metadata": {},
   "outputs": [
    {
     "data": {
      "text/html": [
       "<div>\n",
       "<style scoped>\n",
       "    .dataframe tbody tr th:only-of-type {\n",
       "        vertical-align: middle;\n",
       "    }\n",
       "\n",
       "    .dataframe tbody tr th {\n",
       "        vertical-align: top;\n",
       "    }\n",
       "\n",
       "    .dataframe thead th {\n",
       "        text-align: right;\n",
       "    }\n",
       "</style>\n",
       "<table border=\"1\" class=\"dataframe\">\n",
       "  <thead>\n",
       "    <tr style=\"text-align: right;\">\n",
       "      <th></th>\n",
       "      <th>gender</th>\n",
       "      <th>race/ethnicity</th>\n",
       "      <th>parental level of education</th>\n",
       "      <th>lunch</th>\n",
       "      <th>test preparation course</th>\n",
       "      <th>math score</th>\n",
       "      <th>reading score</th>\n",
       "      <th>writing score</th>\n",
       "      <th>avg_score</th>\n",
       "    </tr>\n",
       "  </thead>\n",
       "  <tbody>\n",
       "    <tr>\n",
       "      <th>2</th>\n",
       "      <td>female</td>\n",
       "      <td>group B</td>\n",
       "      <td>master's degree</td>\n",
       "      <td>standard</td>\n",
       "      <td>none</td>\n",
       "      <td>90</td>\n",
       "      <td>95</td>\n",
       "      <td>93</td>\n",
       "      <td>92.666667</td>\n",
       "    </tr>\n",
       "    <tr>\n",
       "      <th>6</th>\n",
       "      <td>female</td>\n",
       "      <td>group B</td>\n",
       "      <td>some college</td>\n",
       "      <td>standard</td>\n",
       "      <td>completed</td>\n",
       "      <td>88</td>\n",
       "      <td>95</td>\n",
       "      <td>92</td>\n",
       "      <td>91.666667</td>\n",
       "    </tr>\n",
       "    <tr>\n",
       "      <th>16</th>\n",
       "      <td>male</td>\n",
       "      <td>group C</td>\n",
       "      <td>high school</td>\n",
       "      <td>standard</td>\n",
       "      <td>none</td>\n",
       "      <td>88</td>\n",
       "      <td>89</td>\n",
       "      <td>86</td>\n",
       "      <td>87.666667</td>\n",
       "    </tr>\n",
       "    <tr>\n",
       "      <th>34</th>\n",
       "      <td>male</td>\n",
       "      <td>group E</td>\n",
       "      <td>some college</td>\n",
       "      <td>standard</td>\n",
       "      <td>none</td>\n",
       "      <td>97</td>\n",
       "      <td>87</td>\n",
       "      <td>82</td>\n",
       "      <td>88.666667</td>\n",
       "    </tr>\n",
       "    <tr>\n",
       "      <th>102</th>\n",
       "      <td>female</td>\n",
       "      <td>group D</td>\n",
       "      <td>associate's degree</td>\n",
       "      <td>standard</td>\n",
       "      <td>none</td>\n",
       "      <td>85</td>\n",
       "      <td>91</td>\n",
       "      <td>89</td>\n",
       "      <td>88.333333</td>\n",
       "    </tr>\n",
       "    <tr>\n",
       "      <th>...</th>\n",
       "      <td>...</td>\n",
       "      <td>...</td>\n",
       "      <td>...</td>\n",
       "      <td>...</td>\n",
       "      <td>...</td>\n",
       "      <td>...</td>\n",
       "      <td>...</td>\n",
       "      <td>...</td>\n",
       "      <td>...</td>\n",
       "    </tr>\n",
       "    <tr>\n",
       "      <th>957</th>\n",
       "      <td>female</td>\n",
       "      <td>group D</td>\n",
       "      <td>master's degree</td>\n",
       "      <td>standard</td>\n",
       "      <td>none</td>\n",
       "      <td>92</td>\n",
       "      <td>100</td>\n",
       "      <td>100</td>\n",
       "      <td>97.333333</td>\n",
       "    </tr>\n",
       "    <tr>\n",
       "      <th>962</th>\n",
       "      <td>female</td>\n",
       "      <td>group E</td>\n",
       "      <td>associate's degree</td>\n",
       "      <td>standard</td>\n",
       "      <td>none</td>\n",
       "      <td>100</td>\n",
       "      <td>100</td>\n",
       "      <td>100</td>\n",
       "      <td>100.000000</td>\n",
       "    </tr>\n",
       "    <tr>\n",
       "      <th>970</th>\n",
       "      <td>female</td>\n",
       "      <td>group D</td>\n",
       "      <td>bachelor's degree</td>\n",
       "      <td>standard</td>\n",
       "      <td>none</td>\n",
       "      <td>89</td>\n",
       "      <td>100</td>\n",
       "      <td>100</td>\n",
       "      <td>96.333333</td>\n",
       "    </tr>\n",
       "    <tr>\n",
       "      <th>979</th>\n",
       "      <td>female</td>\n",
       "      <td>group C</td>\n",
       "      <td>associate's degree</td>\n",
       "      <td>standard</td>\n",
       "      <td>none</td>\n",
       "      <td>91</td>\n",
       "      <td>95</td>\n",
       "      <td>94</td>\n",
       "      <td>93.333333</td>\n",
       "    </tr>\n",
       "    <tr>\n",
       "      <th>995</th>\n",
       "      <td>female</td>\n",
       "      <td>group E</td>\n",
       "      <td>master's degree</td>\n",
       "      <td>standard</td>\n",
       "      <td>completed</td>\n",
       "      <td>88</td>\n",
       "      <td>99</td>\n",
       "      <td>95</td>\n",
       "      <td>94.000000</td>\n",
       "    </tr>\n",
       "  </tbody>\n",
       "</table>\n",
       "<p>102 rows × 9 columns</p>\n",
       "</div>"
      ],
      "text/plain": [
       "     gender race/ethnicity parental level of education     lunch  \\\n",
       "2    female        group B             master's degree  standard   \n",
       "6    female        group B                some college  standard   \n",
       "16     male        group C                 high school  standard   \n",
       "34     male        group E                some college  standard   \n",
       "102  female        group D          associate's degree  standard   \n",
       "..      ...            ...                         ...       ...   \n",
       "957  female        group D             master's degree  standard   \n",
       "962  female        group E          associate's degree  standard   \n",
       "970  female        group D           bachelor's degree  standard   \n",
       "979  female        group C          associate's degree  standard   \n",
       "995  female        group E             master's degree  standard   \n",
       "\n",
       "    test preparation course  math score  reading score  writing score  \\\n",
       "2                      none          90             95             93   \n",
       "6                 completed          88             95             92   \n",
       "16                     none          88             89             86   \n",
       "34                     none          97             87             82   \n",
       "102                    none          85             91             89   \n",
       "..                      ...         ...            ...            ...   \n",
       "957                    none          92            100            100   \n",
       "962                    none         100            100            100   \n",
       "970                    none          89            100            100   \n",
       "979                    none          91             95             94   \n",
       "995               completed          88             99             95   \n",
       "\n",
       "      avg_score  \n",
       "2     92.666667  \n",
       "6     91.666667  \n",
       "16    87.666667  \n",
       "34    88.666667  \n",
       "102   88.333333  \n",
       "..          ...  \n",
       "957   97.333333  \n",
       "962  100.000000  \n",
       "970   96.333333  \n",
       "979   93.333333  \n",
       "995   94.000000  \n",
       "\n",
       "[102 rows x 9 columns]"
      ]
     },
     "execution_count": 56,
     "metadata": {},
     "output_type": "execute_result"
    }
   ],
   "source": [
    "top_10"
   ]
  },
  {
   "cell_type": "code",
   "execution_count": 57,
   "id": "ed361454-c94f-4e5a-b900-867d80b789ac",
   "metadata": {},
   "outputs": [],
   "source": [
    "combo_count = top_10.groupby(['gender', 'lunch', 'test preparation course' ]).size()"
   ]
  },
  {
   "cell_type": "code",
   "execution_count": 58,
   "id": "3c1a8a68-ba00-48b6-adc8-28384b0826b7",
   "metadata": {},
   "outputs": [
    {
     "data": {
      "text/plain": [
       "gender  lunch         test preparation course\n",
       "female  free/reduced  completed                   6\n",
       "                      none                        2\n",
       "        standard      completed                  29\n",
       "                      none                       31\n",
       "male    free/reduced  completed                   3\n",
       "                      none                        2\n",
       "        standard      completed                  20\n",
       "                      none                        9\n",
       "dtype: int64"
      ]
     },
     "execution_count": 58,
     "metadata": {},
     "output_type": "execute_result"
    }
   ],
   "source": [
    "combo_count"
   ]
  },
  {
   "cell_type": "code",
   "execution_count": 59,
   "id": "912295fc-9248-4966-8ca6-eb51c82510d7",
   "metadata": {},
   "outputs": [
    {
     "data": {
      "text/plain": [
       "gender                         0\n",
       "race/ethnicity                 0\n",
       "parental level of education    0\n",
       "lunch                          0\n",
       "test preparation course        0\n",
       "math score                     0\n",
       "reading score                  0\n",
       "writing score                  0\n",
       "avg_score                      0\n",
       "dtype: int64"
      ]
     },
     "execution_count": 59,
     "metadata": {},
     "output_type": "execute_result"
    }
   ],
   "source": [
    "data.isnull().sum()"
   ]
  },
  {
   "cell_type": "code",
   "execution_count": 61,
   "id": "bffbbc47-d545-47c0-8466-023605dd1f10",
   "metadata": {},
   "outputs": [],
   "source": [
    "import numpy as np"
   ]
  },
  {
   "cell_type": "code",
   "execution_count": 75,
   "id": "7d1a0ba4-0fb6-478d-a329-4325a3d50ec3",
   "metadata": {},
   "outputs": [],
   "source": [
    "patient_data = pd.DataFrame({\n",
    "    'PatientID': [1, 2, 3, 4, 5],\n",
    "    'Name': ['Ali', 'Sara', 'Umar', 'Asim', 'Areeba'],\n",
    "    'Age': [25, np.nan, 40, np.nan, 35],\n",
    "    'City': ['Karachi', 'Lahore', np.nan, 'Islamabad', np.nan],\n",
    "    'BloodPressure': [120, np.nan, 130, np.nan, 110]\n",
    "})"
   ]
  },
  {
   "cell_type": "code",
   "execution_count": 76,
   "id": "e4426b07-1fc2-4c31-968e-f3670890f794",
   "metadata": {},
   "outputs": [
    {
     "data": {
      "text/html": [
       "<div>\n",
       "<style scoped>\n",
       "    .dataframe tbody tr th:only-of-type {\n",
       "        vertical-align: middle;\n",
       "    }\n",
       "\n",
       "    .dataframe tbody tr th {\n",
       "        vertical-align: top;\n",
       "    }\n",
       "\n",
       "    .dataframe thead th {\n",
       "        text-align: right;\n",
       "    }\n",
       "</style>\n",
       "<table border=\"1\" class=\"dataframe\">\n",
       "  <thead>\n",
       "    <tr style=\"text-align: right;\">\n",
       "      <th></th>\n",
       "      <th>PatientID</th>\n",
       "      <th>Name</th>\n",
       "      <th>Age</th>\n",
       "      <th>City</th>\n",
       "      <th>BloodPressure</th>\n",
       "    </tr>\n",
       "  </thead>\n",
       "  <tbody>\n",
       "    <tr>\n",
       "      <th>0</th>\n",
       "      <td>1</td>\n",
       "      <td>Ali</td>\n",
       "      <td>25.0</td>\n",
       "      <td>Karachi</td>\n",
       "      <td>120.0</td>\n",
       "    </tr>\n",
       "    <tr>\n",
       "      <th>1</th>\n",
       "      <td>2</td>\n",
       "      <td>Sara</td>\n",
       "      <td>NaN</td>\n",
       "      <td>Lahore</td>\n",
       "      <td>NaN</td>\n",
       "    </tr>\n",
       "    <tr>\n",
       "      <th>2</th>\n",
       "      <td>3</td>\n",
       "      <td>Umar</td>\n",
       "      <td>40.0</td>\n",
       "      <td>NaN</td>\n",
       "      <td>130.0</td>\n",
       "    </tr>\n",
       "    <tr>\n",
       "      <th>3</th>\n",
       "      <td>4</td>\n",
       "      <td>Asim</td>\n",
       "      <td>NaN</td>\n",
       "      <td>Islamabad</td>\n",
       "      <td>NaN</td>\n",
       "    </tr>\n",
       "    <tr>\n",
       "      <th>4</th>\n",
       "      <td>5</td>\n",
       "      <td>Areeba</td>\n",
       "      <td>35.0</td>\n",
       "      <td>NaN</td>\n",
       "      <td>110.0</td>\n",
       "    </tr>\n",
       "  </tbody>\n",
       "</table>\n",
       "</div>"
      ],
      "text/plain": [
       "   PatientID    Name   Age       City  BloodPressure\n",
       "0          1     Ali  25.0    Karachi          120.0\n",
       "1          2    Sara   NaN     Lahore            NaN\n",
       "2          3    Umar  40.0        NaN          130.0\n",
       "3          4    Asim   NaN  Islamabad            NaN\n",
       "4          5  Areeba  35.0        NaN          110.0"
      ]
     },
     "execution_count": 76,
     "metadata": {},
     "output_type": "execute_result"
    }
   ],
   "source": [
    "patient_data"
   ]
  },
  {
   "cell_type": "code",
   "execution_count": 79,
   "id": "9d0ce92d-0098-4195-84d1-6067cbfa2a5d",
   "metadata": {},
   "outputs": [],
   "source": [
    "patient_data.fillna({'Age':patient_data['Age'].mean()}, inplace=True)\n"
   ]
  },
  {
   "cell_type": "code",
   "execution_count": 70,
   "id": "41152272-ee28-4599-88da-64d700e853ac",
   "metadata": {},
   "outputs": [
    {
     "data": {
      "text/html": [
       "<div>\n",
       "<style scoped>\n",
       "    .dataframe tbody tr th:only-of-type {\n",
       "        vertical-align: middle;\n",
       "    }\n",
       "\n",
       "    .dataframe tbody tr th {\n",
       "        vertical-align: top;\n",
       "    }\n",
       "\n",
       "    .dataframe thead th {\n",
       "        text-align: right;\n",
       "    }\n",
       "</style>\n",
       "<table border=\"1\" class=\"dataframe\">\n",
       "  <thead>\n",
       "    <tr style=\"text-align: right;\">\n",
       "      <th></th>\n",
       "      <th>PatientID</th>\n",
       "      <th>Name</th>\n",
       "      <th>Age</th>\n",
       "      <th>City</th>\n",
       "      <th>BloodPressure</th>\n",
       "    </tr>\n",
       "  </thead>\n",
       "  <tbody>\n",
       "    <tr>\n",
       "      <th>0</th>\n",
       "      <td>1</td>\n",
       "      <td>Ali</td>\n",
       "      <td>None</td>\n",
       "      <td>Karachi</td>\n",
       "      <td>120.0</td>\n",
       "    </tr>\n",
       "    <tr>\n",
       "      <th>1</th>\n",
       "      <td>2</td>\n",
       "      <td>Sara</td>\n",
       "      <td>None</td>\n",
       "      <td>Lahore</td>\n",
       "      <td>35.0</td>\n",
       "    </tr>\n",
       "    <tr>\n",
       "      <th>2</th>\n",
       "      <td>3</td>\n",
       "      <td>Umar</td>\n",
       "      <td>None</td>\n",
       "      <td>35.0</td>\n",
       "      <td>130.0</td>\n",
       "    </tr>\n",
       "    <tr>\n",
       "      <th>3</th>\n",
       "      <td>4</td>\n",
       "      <td>Asim</td>\n",
       "      <td>None</td>\n",
       "      <td>Islamabad</td>\n",
       "      <td>35.0</td>\n",
       "    </tr>\n",
       "    <tr>\n",
       "      <th>4</th>\n",
       "      <td>5</td>\n",
       "      <td>Areeba</td>\n",
       "      <td>None</td>\n",
       "      <td>35.0</td>\n",
       "      <td>110.0</td>\n",
       "    </tr>\n",
       "  </tbody>\n",
       "</table>\n",
       "</div>"
      ],
      "text/plain": [
       "   PatientID    Name   Age       City  BloodPressure\n",
       "0          1     Ali  None    Karachi          120.0\n",
       "1          2    Sara  None     Lahore           35.0\n",
       "2          3    Umar  None       35.0          130.0\n",
       "3          4    Asim  None  Islamabad           35.0\n",
       "4          5  Areeba  None       35.0          110.0"
      ]
     },
     "execution_count": 70,
     "metadata": {},
     "output_type": "execute_result"
    }
   ],
   "source": [
    "patient_data"
   ]
  },
  {
   "cell_type": "code",
   "execution_count": null,
   "id": "8f097fef-161b-4311-ae75-abd3d288a94f",
   "metadata": {},
   "outputs": [],
   "source": []
  }
 ],
 "metadata": {
  "kernelspec": {
   "display_name": "Python 3 (ipykernel)",
   "language": "python",
   "name": "python3"
  },
  "language_info": {
   "codemirror_mode": {
    "name": "ipython",
    "version": 3
   },
   "file_extension": ".py",
   "mimetype": "text/x-python",
   "name": "python",
   "nbconvert_exporter": "python",
   "pygments_lexer": "ipython3",
   "version": "3.13.3"
  }
 },
 "nbformat": 4,
 "nbformat_minor": 5
}
